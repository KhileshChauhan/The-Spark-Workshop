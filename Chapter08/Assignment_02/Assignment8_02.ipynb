{
 "cells": [
  {
   "cell_type": "code",
   "execution_count": 1,
   "metadata": {},
   "outputs": [],
   "source": [
    "from pyspark.sql import SparkSession  \n",
    "spark = SparkSession \\\n",
    "    .builder \\\n",
    "    .appName(\"genre-classification\") \\\n",
    "    .config(\"master\", \"local[*]\") \\\n",
    "    .config(\"spark.executor.memory\", \"5g\")\\\n",
    "    .config(\"spark.driver.memory\", \"5g\")\\\n",
    "    .config(\"spark.memory.offHeap.enabled\",True)\\\n",
    "    .config(\"spark.memory.offHeap.size\",\"6g\")  \\\n",
    "    .getOrCreate()"
   ]
  },
  {
   "cell_type": "code",
   "execution_count": 2,
   "metadata": {},
   "outputs": [],
   "source": [
    "data = spark.read.csv(\"wiki_movie_plots_deduped.csv\", header=True, inferSchema = True)"
   ]
  },
  {
   "cell_type": "code",
   "execution_count": 3,
   "metadata": {},
   "outputs": [],
   "source": [
    "data=data.na.drop()\n",
    "#data=data.filter(\"genre in ('drama', 'comedy', 'horror', 'action', 'thriller','romance')\")\n",
    "data=data.filter(\"genre in ('drama', 'comedy','horror')\")\n"
   ]
  },
  {
   "cell_type": "code",
   "execution_count": 4,
   "metadata": {},
   "outputs": [],
   "source": [
    "total=data.count()\n"
   ]
  },
  {
   "cell_type": "code",
   "execution_count": 5,
   "metadata": {},
   "outputs": [
    {
     "data": {
      "text/html": [
       "<div>\n",
       "<style scoped>\n",
       "    .dataframe tbody tr th:only-of-type {\n",
       "        vertical-align: middle;\n",
       "    }\n",
       "\n",
       "    .dataframe tbody tr th {\n",
       "        vertical-align: top;\n",
       "    }\n",
       "\n",
       "    .dataframe thead th {\n",
       "        text-align: right;\n",
       "    }\n",
       "</style>\n",
       "<table border=\"1\" class=\"dataframe\">\n",
       "  <thead>\n",
       "    <tr style=\"text-align: right;\">\n",
       "      <th></th>\n",
       "      <th>GenreAgg</th>\n",
       "      <th>count</th>\n",
       "    </tr>\n",
       "  </thead>\n",
       "  <tbody>\n",
       "    <tr>\n",
       "      <th>0</th>\n",
       "      <td>drama</td>\n",
       "      <td>5718</td>\n",
       "    </tr>\n",
       "    <tr>\n",
       "      <th>1</th>\n",
       "      <td>comedy</td>\n",
       "      <td>4267</td>\n",
       "    </tr>\n",
       "    <tr>\n",
       "      <th>2</th>\n",
       "      <td>horror</td>\n",
       "      <td>1092</td>\n",
       "    </tr>\n",
       "  </tbody>\n",
       "</table>\n",
       "</div>"
      ],
      "text/plain": [
       "  GenreAgg  count\n",
       "0    drama   5718\n",
       "1   comedy   4267\n",
       "2   horror   1092"
      ]
     },
     "execution_count": 5,
     "metadata": {},
     "output_type": "execute_result"
    }
   ],
   "source": [
    "genre_clean=data.groupby('Genre').count().sort('count', ascending=False).withColumnRenamed(\"Genre\", \"GenreAgg\")\n",
    "genre_clean.toPandas()"
   ]
  },
  {
   "cell_type": "code",
   "execution_count": 6,
   "metadata": {},
   "outputs": [],
   "source": [
    "from pyspark.sql.functions import col\n",
    "weights=genre_clean.withColumn(\"ratio\", (total/(col(\"count\"))))"
   ]
  },
  {
   "cell_type": "code",
   "execution_count": 7,
   "metadata": {},
   "outputs": [
    {
     "data": {
      "text/html": [
       "<div>\n",
       "<style scoped>\n",
       "    .dataframe tbody tr th:only-of-type {\n",
       "        vertical-align: middle;\n",
       "    }\n",
       "\n",
       "    .dataframe tbody tr th {\n",
       "        vertical-align: top;\n",
       "    }\n",
       "\n",
       "    .dataframe thead th {\n",
       "        text-align: right;\n",
       "    }\n",
       "</style>\n",
       "<table border=\"1\" class=\"dataframe\">\n",
       "  <thead>\n",
       "    <tr style=\"text-align: right;\">\n",
       "      <th></th>\n",
       "      <th>Genre</th>\n",
       "      <th>Plot</th>\n",
       "      <th>Ratio</th>\n",
       "    </tr>\n",
       "  </thead>\n",
       "  <tbody>\n",
       "    <tr>\n",
       "      <th>0</th>\n",
       "      <td>horror</td>\n",
       "      <td>White-haired Dr. Jekyll has secretly locked hi...</td>\n",
       "      <td>10.143773</td>\n",
       "    </tr>\n",
       "    <tr>\n",
       "      <th>1</th>\n",
       "      <td>horror</td>\n",
       "      <td>Dr. Henry Jekyll (King Baggot) sends a note to...</td>\n",
       "      <td>10.143773</td>\n",
       "    </tr>\n",
       "    <tr>\n",
       "      <th>2</th>\n",
       "      <td>horror</td>\n",
       "      <td>\"Henry Jekyll (John Barrymore) is a doctor of ...</td>\n",
       "      <td>10.143773</td>\n",
       "    </tr>\n",
       "    <tr>\n",
       "      <th>3</th>\n",
       "      <td>horror</td>\n",
       "      <td>The film is a contemporary (1920s, though the ...</td>\n",
       "      <td>10.143773</td>\n",
       "    </tr>\n",
       "    <tr>\n",
       "      <th>4</th>\n",
       "      <td>horror</td>\n",
       "      <td>The film opens with the debut of the new seaso...</td>\n",
       "      <td>10.143773</td>\n",
       "    </tr>\n",
       "    <tr>\n",
       "      <th>5</th>\n",
       "      <td>horror</td>\n",
       "      <td>Dick Bannister is the new field boss of the Fo...</td>\n",
       "      <td>10.143773</td>\n",
       "    </tr>\n",
       "    <tr>\n",
       "      <th>6</th>\n",
       "      <td>horror</td>\n",
       "      <td>In the Latin Quarter of Paris, sculptor Margar...</td>\n",
       "      <td>10.143773</td>\n",
       "    </tr>\n",
       "    <tr>\n",
       "      <th>7</th>\n",
       "      <td>horror</td>\n",
       "      <td>Alonzo the Armless is a circus freak who uses ...</td>\n",
       "      <td>10.143773</td>\n",
       "    </tr>\n",
       "    <tr>\n",
       "      <th>8</th>\n",
       "      <td>horror</td>\n",
       "      <td>Jim and Eve, a young society couple, are kidna...</td>\n",
       "      <td>10.143773</td>\n",
       "    </tr>\n",
       "    <tr>\n",
       "      <th>9</th>\n",
       "      <td>horror</td>\n",
       "      <td>Renfield (Dwight Frye) is a solicitor travelin...</td>\n",
       "      <td>10.143773</td>\n",
       "    </tr>\n",
       "  </tbody>\n",
       "</table>\n",
       "</div>"
      ],
      "text/plain": [
       "    Genre                                               Plot      Ratio\n",
       "0  horror  White-haired Dr. Jekyll has secretly locked hi...  10.143773\n",
       "1  horror  Dr. Henry Jekyll (King Baggot) sends a note to...  10.143773\n",
       "2  horror  \"Henry Jekyll (John Barrymore) is a doctor of ...  10.143773\n",
       "3  horror  The film is a contemporary (1920s, though the ...  10.143773\n",
       "4  horror  The film opens with the debut of the new seaso...  10.143773\n",
       "5  horror  Dick Bannister is the new field boss of the Fo...  10.143773\n",
       "6  horror  In the Latin Quarter of Paris, sculptor Margar...  10.143773\n",
       "7  horror  Alonzo the Armless is a circus freak who uses ...  10.143773\n",
       "8  horror  Jim and Eve, a young society couple, are kidna...  10.143773\n",
       "9  horror  Renfield (Dwight Frye) is a solicitor travelin...  10.143773"
      ]
     },
     "execution_count": 7,
     "metadata": {},
     "output_type": "execute_result"
    }
   ],
   "source": [
    "data_final=data.join(weights, weights.GenreAgg==data.Genre)\n",
    "data_final.select('Genre','Plot','Ratio').limit(10).toPandas()"
   ]
  },
  {
   "cell_type": "code",
   "execution_count": 8,
   "metadata": {},
   "outputs": [],
   "source": [
    "from pyspark.ml.feature import HashingTF, IDF, Tokenizer, StringIndexer\n",
    "from pyspark.ml.feature import Word2Vec\n",
    "from pyspark.ml import Pipeline\n",
    "\n",
    "tokenizer = Tokenizer(inputCol=\"Plot\", outputCol=\"tokens\")\n",
    "w2v = Word2Vec(vectorSize=300, minCount=0, inputCol=\"tokens\", outputCol=\"features\")\n",
    "indexer = StringIndexer(inputCol=\"Genre\", outputCol=\"label\")\n",
    "doc2vec_pipeline = Pipeline(stages=[tokenizer,w2v,indexer])"
   ]
  },
  {
   "cell_type": "code",
   "execution_count": 9,
   "metadata": {},
   "outputs": [
    {
     "data": {
      "text/html": [
       "<div>\n",
       "<style scoped>\n",
       "    .dataframe tbody tr th:only-of-type {\n",
       "        vertical-align: middle;\n",
       "    }\n",
       "\n",
       "    .dataframe tbody tr th {\n",
       "        vertical-align: top;\n",
       "    }\n",
       "\n",
       "    .dataframe thead th {\n",
       "        text-align: right;\n",
       "    }\n",
       "</style>\n",
       "<table border=\"1\" class=\"dataframe\">\n",
       "  <thead>\n",
       "    <tr style=\"text-align: right;\">\n",
       "      <th></th>\n",
       "      <th>tokens</th>\n",
       "      <th>features</th>\n",
       "      <th>label</th>\n",
       "    </tr>\n",
       "  </thead>\n",
       "  <tbody>\n",
       "    <tr>\n",
       "      <th>0</th>\n",
       "      <td>[white-haired, dr., jekyll, has, secretly, loc...</td>\n",
       "      <td>[0.04322468663438096, 0.03331412000621745, -0....</td>\n",
       "      <td>2.0</td>\n",
       "    </tr>\n",
       "    <tr>\n",
       "      <th>1</th>\n",
       "      <td>[dr., henry, jekyll, (king, baggot), sends, a,...</td>\n",
       "      <td>[0.04579064731693246, 0.039869951117257836, -0...</td>\n",
       "      <td>2.0</td>\n",
       "    </tr>\n",
       "    <tr>\n",
       "      <th>2</th>\n",
       "      <td>[\"henry, jekyll, (john, barrymore), is, a, doc...</td>\n",
       "      <td>[0.04659355730051143, 0.04518813767119131, -0....</td>\n",
       "      <td>2.0</td>\n",
       "    </tr>\n",
       "    <tr>\n",
       "      <th>3</th>\n",
       "      <td>[the, film, is, a, contemporary, (1920s,, thou...</td>\n",
       "      <td>[0.05495891580894271, 0.019276349543360993, -0...</td>\n",
       "      <td>2.0</td>\n",
       "    </tr>\n",
       "    <tr>\n",
       "      <th>4</th>\n",
       "      <td>[the, film, opens, with, the, debut, of, the, ...</td>\n",
       "      <td>[0.02655054842730228, 0.022479477146564907, -0...</td>\n",
       "      <td>2.0</td>\n",
       "    </tr>\n",
       "    <tr>\n",
       "      <th>5</th>\n",
       "      <td>[dick, bannister, is, the, new, field, boss, o...</td>\n",
       "      <td>[0.029137669955570326, 0.029050769960685143, -...</td>\n",
       "      <td>2.0</td>\n",
       "    </tr>\n",
       "    <tr>\n",
       "      <th>6</th>\n",
       "      <td>[in, the, latin, quarter, of, paris,, sculptor...</td>\n",
       "      <td>[0.015465231206059, 0.04238198277105729, -0.03...</td>\n",
       "      <td>2.0</td>\n",
       "    </tr>\n",
       "    <tr>\n",
       "      <th>7</th>\n",
       "      <td>[alonzo, the, armless, is, a, circus, freak, w...</td>\n",
       "      <td>[0.046733187741353245, 0.03459240040813969, -0...</td>\n",
       "      <td>2.0</td>\n",
       "    </tr>\n",
       "    <tr>\n",
       "      <th>8</th>\n",
       "      <td>[jim, and, eve,, a, young, society, couple,, a...</td>\n",
       "      <td>[0.02537259155656102, 0.03235944381594891, -0....</td>\n",
       "      <td>2.0</td>\n",
       "    </tr>\n",
       "    <tr>\n",
       "      <th>9</th>\n",
       "      <td>[renfield, (dwight, frye), is, a, solicitor, t...</td>\n",
       "      <td>[0.044561441464508675, 0.02433506120463, -0.05...</td>\n",
       "      <td>2.0</td>\n",
       "    </tr>\n",
       "  </tbody>\n",
       "</table>\n",
       "</div>"
      ],
      "text/plain": [
       "                                              tokens  \\\n",
       "0  [white-haired, dr., jekyll, has, secretly, loc...   \n",
       "1  [dr., henry, jekyll, (king, baggot), sends, a,...   \n",
       "2  [\"henry, jekyll, (john, barrymore), is, a, doc...   \n",
       "3  [the, film, is, a, contemporary, (1920s,, thou...   \n",
       "4  [the, film, opens, with, the, debut, of, the, ...   \n",
       "5  [dick, bannister, is, the, new, field, boss, o...   \n",
       "6  [in, the, latin, quarter, of, paris,, sculptor...   \n",
       "7  [alonzo, the, armless, is, a, circus, freak, w...   \n",
       "8  [jim, and, eve,, a, young, society, couple,, a...   \n",
       "9  [renfield, (dwight, frye), is, a, solicitor, t...   \n",
       "\n",
       "                                            features  label  \n",
       "0  [0.04322468663438096, 0.03331412000621745, -0....    2.0  \n",
       "1  [0.04579064731693246, 0.039869951117257836, -0...    2.0  \n",
       "2  [0.04659355730051143, 0.04518813767119131, -0....    2.0  \n",
       "3  [0.05495891580894271, 0.019276349543360993, -0...    2.0  \n",
       "4  [0.02655054842730228, 0.022479477146564907, -0...    2.0  \n",
       "5  [0.029137669955570326, 0.029050769960685143, -...    2.0  \n",
       "6  [0.015465231206059, 0.04238198277105729, -0.03...    2.0  \n",
       "7  [0.046733187741353245, 0.03459240040813969, -0...    2.0  \n",
       "8  [0.02537259155656102, 0.03235944381594891, -0....    2.0  \n",
       "9  [0.044561441464508675, 0.02433506120463, -0.05...    2.0  "
      ]
     },
     "execution_count": 9,
     "metadata": {},
     "output_type": "execute_result"
    }
   ],
   "source": [
    "doc2vec_model = doc2vec_pipeline.fit(data_final)\n",
    "doc2vecs_df = doc2vec_model.transform(data_final)\n",
    "doc2vecs_df.select('tokens', 'features','label').limit(10).toPandas()"
   ]
  },
  {
   "cell_type": "code",
   "execution_count": 10,
   "metadata": {},
   "outputs": [],
   "source": [
    "from pyspark.ml.evaluation import MulticlassClassificationEvaluator\n",
    "from pyspark.ml.classification import LogisticRegression\n",
    "train, test = doc2vecs_df.randomSplit([0.7, 0.3], seed=12345)\n",
    "lr_classifier = LogisticRegression(family=\"multinomial\", weightCol=\"ratio\")\n",
    "\n",
    "lr_classifier_pipeline = Pipeline(stages=[lr_classifier])\n",
    "lr_predictions = lr_classifier_pipeline.fit(train).transform(test)\n",
    "\n",
    "lr_model_evaluator = MulticlassClassificationEvaluator(\n",
    "    labelCol=\"label\", predictionCol=\"prediction\", metricName=\"accuracy\")\n"
   ]
  },
  {
   "cell_type": "code",
   "execution_count": 11,
   "metadata": {},
   "outputs": [
    {
     "name": "stdout",
     "output_type": "stream",
     "text": [
      "LogisticRegression accuracy 0.5686576354679803\n"
     ]
    }
   ],
   "source": [
    "print(\"LogisticRegression accuracy {}\".format(lr_model_evaluator.evaluate(lr_predictions)))"
   ]
  },
  {
   "cell_type": "code",
   "execution_count": 12,
   "metadata": {},
   "outputs": [],
   "source": [
    "from pyspark.ml.tuning import CrossValidator, ParamGridBuilder\n",
    "\n",
    "    #.addGrid(lr_classifier.regParam, [0.1, 0.01, 0.3]) \\\n",
    "\n",
    "paramGrid = ParamGridBuilder() \\\n",
    "    .addGrid(lr_classifier.maxIter, [10, 100, 500, 1000]) \\\n",
    "    .addGrid(lr_classifier.weightCol, [\"ratio\"]) \\\n",
    "    .build()\n",
    "\n",
    "crossval = CrossValidator(estimator=lr_classifier,\n",
    "                          estimatorParamMaps=paramGrid,\n",
    "                          evaluator=MulticlassClassificationEvaluator(\n",
    "    labelCol=\"label\", predictionCol=\"prediction\", metricName=\"accuracy\"),\n",
    "                          numFolds=4)"
   ]
  },
  {
   "cell_type": "code",
   "execution_count": 13,
   "metadata": {},
   "outputs": [],
   "source": [
    "cvModel = crossval.fit(train)\n",
    "\n",
    "prediction = cvModel.transform(test)\n",
    "selected = prediction.select(\"prediction\",'label')\n",
    "\n"
   ]
  },
  {
   "cell_type": "code",
   "execution_count": 14,
   "metadata": {},
   "outputs": [
    {
     "name": "stdout",
     "output_type": "stream",
     "text": [
      "Logistic Regression accuracy  for best Model 0.6151488057223145\n",
      "Logistic Regression f1  for best Model 0.6188575269485528\n",
      "Logistic Regression precision  for best Model 0.6402513127782292\n",
      "Logistic Regression recall  for best Model 0.6151488057223145\n"
     ]
    }
   ],
   "source": [
    "summary=cvModel.bestModel.summary\n",
    "print(\"Logistic Regression accuracy  for best Model {}\".format(cvModel.bestModel.summary.accuracy))\n",
    "print(\"Logistic Regression f1  for best Model {}\".format(cvModel.bestModel.summary.weightedFMeasure()))\n",
    "print(\"Logistic Regression precision  for best Model {}\".format(cvModel.bestModel.summary.weightedPrecision))\n",
    "print(\"Logistic Regression recall  for best Model {}\".format(cvModel.bestModel.summary.weightedRecall))\n"
   ]
  }
 ],
 "metadata": {
  "kernelspec": {
   "display_name": "spark",
   "language": "python",
   "name": "spark"
  },
  "language_info": {
   "codemirror_mode": {
    "name": "ipython",
    "version": 3
   },
   "file_extension": ".py",
   "mimetype": "text/x-python",
   "name": "python",
   "nbconvert_exporter": "python",
   "pygments_lexer": "ipython3",
   "version": "3.7.7"
  }
 },
 "nbformat": 4,
 "nbformat_minor": 4
}
